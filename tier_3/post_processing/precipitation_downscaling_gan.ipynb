{
  "cells": [
    {
      "cell_type": "markdown",
      "metadata": {
        "id": "view-in-github",
        "colab_type": "text"
      },
      "source": [
        "<a href=\"https://colab.research.google.com/github/nishitprajapati/ECMWF_MOOC/blob/main/tier_3/post_processing/precipitation_downscaling_gan.ipynb\" target=\"_parent\"><img src=\"https://colab.research.google.com/assets/colab-badge.svg\" alt=\"Open In Colab\"/></a>"
      ]
    },
    {
      "cell_type": "markdown",
      "metadata": {
        "id": "2hhBqIq-0s3N"
      },
      "source": [
        "# Introduction"
      ]
    },
    {
      "cell_type": "markdown",
      "metadata": {
        "id": "CP6g74dA2hgA"
      },
      "source": [
        "In many applications, we get precipitation fields at lower resolution than we need. For example, climate models usually have resolution in the tens of kilometers. This makes it difficult to study the effects of climatic change on extreme precipitation, which usually happens at shorter length scales. To remedy this, we can use *downscaling*: statistical methods that create higher-resolution fields from low-resolution inputs. These are related to the so-called *super-resolution* methods in image processing.\n",
        "\n",
        "Generative Adversarial Networks are naturally suited for downscaling because they can learn to create realistic-looking outputs. In this notebook, we'll use TensorFlow/Keras to build a simple conditional GAN for downscaling radar-measured precipitation fields. You can train the GAN yourself, or if you prefer, you can jump straight into generating fields yourself.\n",
        "\n",
        "This notebook is based on the research article [\"Stochastic Super-Resolution for Downscaling Time-Evolving Atmospheric Fields With a Generative Adversarial Network\"](https://doi.org/10.1109/TGRS.2020.3032790), which used a dataset from the MeteoSwiss radar network. To make the dataset a more manageable size and reduce the cost of training, the time dimension used in that paper has been removed, the sample size reduced to 32x32, 64000 training samples have been randomly selected from the dataset."
      ]
    },
    {
      "cell_type": "markdown",
      "metadata": {
        "id": "UG1E5jTav6zC"
      },
      "source": [
        "# Getting started"
      ]
    },
    {
      "cell_type": "markdown",
      "metadata": {
        "id": "bb-msoQEwAHz"
      },
      "source": [
        "To work with this notebook, you'll need it to run in an environment with TensorFlow, NumPy, Matplotlib and NetCDF4 installed. You should also have a GPU available. One option is to run this on [Google Colab](https://colab.research.google.com/github/ecmwf-projects/mooc-machine-learning-weather-climate/blob/main/tier_3/post_processing/precipitation_downscaling_gan.ipynb), where these packages are already installed, except netCDF4, which can be installed by running the code in the cell below. If using Colab, go to Edit -> Notebook settings -> Hardware accelerator and select \"GPU\".\n",
        "\n"
      ]
    },
    {
      "cell_type": "code",
      "execution_count": 1,
      "metadata": {
        "id": "kvrDP77vCqeL",
        "outputId": "31cb194f-eec3-4668-8d9a-ce9e01630bf8",
        "colab": {
          "base_uri": "https://localhost:8080/"
        }
      },
      "outputs": [
        {
          "output_type": "stream",
          "name": "stdout",
          "text": [
            "Looking in indexes: https://pypi.org/simple, https://us-python.pkg.dev/colab-wheels/public/simple/\n",
            "Collecting netCDF4\n",
            "  Downloading netCDF4-1.6.3-cp310-cp310-manylinux_2_17_x86_64.manylinux2014_x86_64.whl (5.2 MB)\n",
            "\u001b[2K     \u001b[90m━━━━━━━━━━━━━━━━━━━━━━━━━━━━━━━━━━━━━━━━\u001b[0m \u001b[32m5.2/5.2 MB\u001b[0m \u001b[31m72.5 MB/s\u001b[0m eta \u001b[36m0:00:00\u001b[0m\n",
            "\u001b[?25hCollecting cftime\n",
            "  Downloading cftime-1.6.2-cp310-cp310-manylinux_2_17_x86_64.manylinux2014_x86_64.whl (1.2 MB)\n",
            "\u001b[2K     \u001b[90m━━━━━━━━━━━━━━━━━━━━━━━━━━━━━━━━━━━━━━━━\u001b[0m \u001b[32m1.2/1.2 MB\u001b[0m \u001b[31m77.4 MB/s\u001b[0m eta \u001b[36m0:00:00\u001b[0m\n",
            "\u001b[?25hRequirement already satisfied: numpy in /usr/local/lib/python3.10/dist-packages (from netCDF4) (1.22.4)\n",
            "Installing collected packages: cftime, netCDF4\n",
            "Successfully installed cftime-1.6.2 netCDF4-1.6.3\n"
          ]
        }
      ],
      "source": [
        "!pip install netCDF4"
      ]
    },
    {
      "cell_type": "markdown",
      "metadata": {
        "id": "z7SnwImD0ywT"
      },
      "source": [
        "# Setting up the data"
      ]
    },
    {
      "cell_type": "markdown",
      "metadata": {
        "id": "7RdnhsJ6JMkX"
      },
      "source": [
        "**Loading the high-resolution data**\n",
        "\n",
        "We start by downloading the precipitation data and reading it to memory."
      ]
    },
    {
      "cell_type": "code",
      "execution_count": 2,
      "metadata": {
        "id": "HWeVHYEkKROb",
        "outputId": "9a8d8930-7862-4a5c-d78e-400366f0f5d8",
        "colab": {
          "base_uri": "https://localhost:8080/"
        }
      },
      "outputs": [
        {
          "output_type": "stream",
          "name": "stdout",
          "text": [
            "--2023-04-30 21:21:57--  https://get.ecmwf.int/repository/mooc-machine-learning-weather-climate/tier_3/precipitation_downscaling/scale_rzc.txt\n",
            "Resolving get.ecmwf.int (get.ecmwf.int)... 136.156.180.32\n",
            "Connecting to get.ecmwf.int (get.ecmwf.int)|136.156.180.32|:443... connected.\n",
            "HTTP request sent, awaiting response... 200 OK\n",
            "Length: 3283 (3.2K) [text/plain]\n",
            "Saving to: ‘scale_rzc.txt’\n",
            "\n",
            "\rscale_rzc.txt         0%[                    ]       0  --.-KB/s               \rscale_rzc.txt       100%[===================>]   3.21K  --.-KB/s    in 0s      \n",
            "\n",
            "2023-04-30 21:21:57 (599 MB/s) - ‘scale_rzc.txt’ saved [3283/3283]\n",
            "\n",
            "--2023-04-30 21:21:57--  https://get.ecmwf.int/repository/mooc-machine-learning-weather-climate/tier_3/precipitation_downscaling/samples-2018-32x32.nc\n",
            "Resolving get.ecmwf.int (get.ecmwf.int)... 136.156.180.32\n",
            "Connecting to get.ecmwf.int (get.ecmwf.int)|136.156.180.32|:443... connected.\n",
            "HTTP request sent, awaiting response... 200 OK\n",
            "Length: 16538709 (16M) [application/x-netcdf]\n",
            "Saving to: ‘samples-2018-32x32.nc’\n",
            "\n",
            "samples-2018-32x32. 100%[===================>]  15.77M  10.8MB/s    in 1.5s    \n",
            "\n",
            "2023-04-30 21:21:58 (10.8 MB/s) - ‘samples-2018-32x32.nc’ saved [16538709/16538709]\n",
            "\n"
          ]
        }
      ],
      "source": [
        "import netCDF4\n",
        "import numpy as np\n",
        "\n",
        "# Download data to our local directory\n",
        "!wget https://get.ecmwf.int/repository/mooc-machine-learning-weather-climate/tier_3/precipitation_downscaling/scale_rzc.txt\n",
        "!wget https://get.ecmwf.int/repository/mooc-machine-learning-weather-climate/tier_3/precipitation_downscaling/samples-2018-32x32.nc\n",
        "\n",
        "# Load the samples\n",
        "with netCDF4.Dataset(\"samples-2018-32x32.nc\", 'r') as ds:\n",
        "    samples = np.array(ds[\"samples\"][:], copy=False)\n",
        "\n",
        "# the original data is in an 8-bit format that needs to be scaled\n",
        "scale = np.loadtxt(\"scale_rzc.txt\").astype(np.float32)\n",
        "samples = scale[samples]\n",
        "\n",
        "# convert missing data to zeros\n",
        "samples[~np.isfinite(samples)] = 0\n",
        "\n",
        "# Do a log-transformation to reduce dynamic range.\n",
        "# We threshold data to 0.1 mm/h and set everything below to 0.02 mm/h\n",
        "# to allow the log-transformation to work.\n",
        "samples[samples < 0.1] = 0.02 \n",
        "samples = np.log10(samples)"
      ]
    },
    {
      "cell_type": "markdown",
      "metadata": {
        "id": "rFOmDub8KlSl"
      },
      "source": [
        "**Creating input datasets**\n",
        "\n",
        "For this demonstration work, we simply create the low-resolution samples by spatially averaging our high-resolution samples. We use a 4x4 size for the low resolution, so our downscaling will have a resolution multiplier of 8. Then we pack both the high-resolution and low-resolution data in a TensorFlow `Dataset`.\n",
        "\n",
        "If you see an `ImportError` while running the code, make sure you have TensorFlow installed in your notebook environment. For instance, on Google Colab you'll need to switch to a GPU node (see the Getting started\" section)."
      ]
    },
    {
      "cell_type": "code",
      "execution_count": 3,
      "metadata": {
        "id": "QlJQKZUULGTj"
      },
      "outputs": [],
      "source": [
        "import tensorflow as tf\n",
        "\n",
        "rf = 8 # resolution factor\n",
        "\n",
        "# Create low-resolution (LR) array\n",
        "lr_shape = (\n",
        "    samples.shape[0], samples.shape[1]//rf,\n",
        "    samples.shape[2]//rf, samples.shape[3]\n",
        ")\n",
        "\n",
        "# 8x8 average pooling\n",
        "samples_lr = np.zeros(lr_shape, samples.dtype)\n",
        "for i in range(rf):\n",
        "    for j in range(rf):\n",
        "        samples_lr += samples[:,i::rf,j::rf,:]\n",
        "samples_lr /= rf**2\n",
        "\n",
        "# set aside 10% of data for testing (not used to train model)\n",
        "indices = np.arange(samples.shape[0])\n",
        "rng = np.random.RandomState(seed=1)\n",
        "rng.shuffle(indices)\n",
        "N_testing = int(samples.shape[0]*0.1)\n",
        "samples_test = samples[indices[:N_testing],...]\n",
        "samples = samples[indices[N_testing:],...]\n",
        "samples_lr_test = samples_lr[indices[:N_testing],...]\n",
        "samples_lr = samples_lr[indices[N_testing:],...]\n",
        "\n",
        "# create TensorFlow Dataset for training\n",
        "batch_size = 64\n",
        "dataset = tf.data.Dataset.from_tensor_slices((samples_lr, samples))\n",
        "dataset = dataset.shuffle(buffer_size=256).batch(batch_size)"
      ]
    },
    {
      "cell_type": "markdown",
      "metadata": {
        "id": "qAd3xJ460IB8"
      },
      "source": [
        "# Plotting the data"
      ]
    },
    {
      "cell_type": "markdown",
      "metadata": {
        "id": "w09X-9fE0LWX"
      },
      "source": [
        "Let's take a quick look at the data. First, we define some functions for plotting using Matplotlib."
      ]
    },
    {
      "cell_type": "code",
      "execution_count": 4,
      "metadata": {
        "id": "N8kWrVt7W8sB"
      },
      "outputs": [],
      "source": [
        "from matplotlib import colors, gridspec, pyplot as plt\n",
        "\n",
        "def plot_precip(ax, logR):\n",
        "    \"\"\" Plot a single precipitation image.\n",
        "    \"\"\"\n",
        "    if logR.ndim == 3:\n",
        "        logR = logR[:,:,0] # remove channels dimension\n",
        "    R = 10**logR\n",
        "    R[R < 0.1] = np.nan\n",
        "    ax.imshow(R, norm=colors.LogNorm(0.1,100,clip=True))\n",
        "    ax.tick_params(left=False, bottom=False,\n",
        "        labelleft=False, labelbottom=False)\n",
        "\n",
        "def plot_samples(samples, labels=None):\n",
        "    \"\"\" Plot a grid with many images.\n",
        "    \"\"\"\n",
        "    N_variables = len(samples)\n",
        "    N_samples = len(samples[0])\n",
        "    fig = plt.figure(figsize=(N_samples*1.5, N_variables*1.5))\n",
        "    gs = gridspec.GridSpec(N_variables, N_samples, hspace=0.02, wspace=0.02)\n",
        "\n",
        "    for (i,variable) in enumerate(samples):\n",
        "        for (j,sample) in enumerate(variable):\n",
        "            ax = fig.add_subplot(gs[i,j])\n",
        "            plot_precip(ax, sample)\n",
        "            if (j == 0) and (labels is not None):\n",
        "                ax.set_ylabel(labels[i])\n",
        "\n",
        "    fig.show()"
      ]
    },
    {
      "cell_type": "markdown",
      "metadata": {
        "id": "IvKTDjiq0U0S"
      },
      "source": [
        "Then, we pick a few interesting examples from the test dataset and show both the high- and low-resolution versions.\n",
        "\n",
        "If you want to explore the dataset more, change the `indices` variable or uncomment the lines that pick the indices randomly."
      ]
    },
    {
      "cell_type": "code",
      "execution_count": 5,
      "metadata": {
        "id": "DqDBCU3vZC10",
        "outputId": "43545304-6422-4e28-b015-a12241ec46ce",
        "colab": {
          "base_uri": "https://localhost:8080/",
          "height": 267
        }
      },
      "outputs": [
        {
          "output_type": "display_data",
          "data": {
            "text/plain": [
              "<Figure size 1200x300 with 16 Axes>"
            ],
            "image/png": "[encoded data removed]"
          },
          "metadata": {}
        }
      ],
      "source": [
        "# Show a selection of interesting samples from the test set\n",
        "indices = [2,5,14,16,17,19,28,37]\n",
        "\n",
        "# Uncomment to use a random selection (change seed for a different selection):\n",
        "# rng = np.random.RandomState(seed=4)\n",
        "# indices = rng.choice(samples_test.shape[0], 8, replace=False)\n",
        "\n",
        "plot_samples(\n",
        "    [samples_test[indices,...], samples_lr_test[indices,...]],\n",
        "    labels=[\"HR samples\", \"LR samples\"]\n",
        ")"
      ]
    },
    {
      "cell_type": "markdown",
      "metadata": {
        "id": "L-8gRoUMzqgX"
      },
      "source": [
        "# Creating the GAN"
      ]
    },
    {
      "cell_type": "markdown",
      "metadata": {
        "id": "TfxHa2GTOeDR"
      },
      "source": [
        "**GAN networks**\n",
        "\n",
        "Here, we create the generator and discriminator networks. We use a fairly simple upsampling convolutional neural network (ConvNet) for the generator and a downsampling ConvNet for the discriminator."
      ]
    },
    {
      "cell_type": "code",
      "execution_count": 6,
      "metadata": {
        "id": "JiI5BbeoPQVP"
      },
      "outputs": [],
      "source": [
        "from tensorflow import keras\n",
        "from tensorflow.keras import Model\n",
        "from tensorflow.keras.layers import Concatenate, Conv2D, Dense\n",
        "from tensorflow.keras.layers import LeakyReLU\n",
        "from tensorflow.keras.layers import GlobalAveragePooling2D, Input, UpSampling2D\n",
        "\n",
        "\n",
        "def create_generator(\n",
        "    block_widths=(128,64,32),\n",
        "    input_shape=(4,4,1),\n",
        "    noise_shape=(4,4,8)\n",
        "):\n",
        "    # inputs (concatenated)\n",
        "    input_lr = Input(shape=input_shape)\n",
        "    input_noise = Input(shape=noise_shape)\n",
        "    x = Concatenate()([input_lr, input_noise])\n",
        "\n",
        "    x = Conv2D(\n",
        "        block_widths[0], kernel_size=(3,3), padding='same'\n",
        "    )(x)\n",
        "    x = LeakyReLU(0.2)(x)\n",
        "    # upsampling stages\n",
        "    for width in block_widths:\n",
        "        x = UpSampling2D(interpolation='bilinear')(x)\n",
        "        x = Conv2D(\n",
        "            width, kernel_size=(3,3), padding='same'\n",
        "        )(x)\n",
        "        x = LeakyReLU(0.2)(x)\n",
        "\n",
        "    # final projection to output space\n",
        "    output = Conv2D(1, kernel_size=(1,1))(x)\n",
        "\n",
        "    return Model(inputs=[input_lr, input_noise], outputs=output)\n",
        "\n",
        "\n",
        "def create_discriminator(\n",
        "    block_widths=(32,64,128),\n",
        "    input_shape_hr=(32,32,1),\n",
        "    input_shape_lr=(4,4,1),\n",
        "    postproc_convs=2,\n",
        "    output_activation='linear' # 'linear' when using 'from_logits' in loss\n",
        "):\n",
        "    # inputs\n",
        "    input_hr = Input(shape=input_shape_hr)\n",
        "    input_lr = Input(shape=input_shape_lr)\n",
        "\n",
        "    # Convolution steps for both HR and LR inputs\n",
        "    x_hr = Conv2D(\n",
        "        block_widths[0], kernel_size=(3,3), padding='same', activation='relu'\n",
        "    )(input_hr)\n",
        "    x_hr = LeakyReLU(0.2)(x_hr)\n",
        "    x_lr = Conv2D(\n",
        "        block_widths[0], kernel_size=(3,3), padding='same', activation='relu'\n",
        "    )(input_lr)\n",
        "    x_lr = LeakyReLU(0.2)(x_lr)\n",
        "    for width in block_widths:\n",
        "        x_hr = Conv2D( # downsample HR samples on each loop\n",
        "            width, kernel_size=(3,3), padding='same', strides=2,\n",
        "        )(x_hr)\n",
        "        x_hr = LeakyReLU(0.2)(x_hr)\n",
        "        x_lr = Conv2D(\n",
        "            width, kernel_size=(3,3), padding='same'\n",
        "        )(x_lr)\n",
        "        x_lr = LeakyReLU(0.2)(x_lr)\n",
        "\n",
        "    # Concatenate HR and LR branches and do some joint processing\n",
        "    x = Concatenate()([x_hr, x_lr])\n",
        "    for _ in range(postproc_convs):\n",
        "        x = Conv2D(block_widths[-1], kernel_size=(3,3), padding='same')(x)\n",
        "        x = LeakyReLU(0.2)(x)\n",
        "\n",
        "    # Pool to get outputs\n",
        "    x = GlobalAveragePooling2D()(x)\n",
        "    output = Dense(1, activation=output_activation)(x)\n",
        "\n",
        "    return Model(inputs=[input_lr, input_hr], outputs=output)\n",
        "\n",
        "\n",
        "generator = create_generator()\n",
        "discriminator = create_discriminator()"
      ]
    },
    {
      "cell_type": "code",
      "execution_count": 7,
      "metadata": {
        "id": "xT2vVhdNVuY_",
        "outputId": "9fe4e1f7-296e-4c66-ce27-74669fafe4a1",
        "colab": {
          "base_uri": "https://localhost:8080/"
        }
      },
      "outputs": [
        {
          "output_type": "stream",
          "name": "stdout",
          "text": [
            "Model: \"model\"\n",
            "__________________________________________________________________________________________________\n",
            " Layer (type)                   Output Shape         Param #     Connected to                     \n",
            "==================================================================================================\n",
            " input_1 (InputLayer)           [(None, 4, 4, 1)]    0           []                               \n",
            "                                                                                                  \n",
            " input_2 (InputLayer)           [(None, 4, 4, 8)]    0           []                               \n",
            "                                                                                                  \n",
            " concatenate (Concatenate)      (None, 4, 4, 9)      0           ['input_1[0][0]',                \n",
            "                                                                  'input_2[0][0]']                \n",
            "                                                                                                  \n",
            " conv2d (Conv2D)                (None, 4, 4, 128)    10496       ['concatenate[0][0]']            \n",
            "                                                                                                  \n",
            " leaky_re_lu (LeakyReLU)        (None, 4, 4, 128)    0           ['conv2d[0][0]']                 \n",
            "                                                                                                  \n",
            " up_sampling2d (UpSampling2D)   (None, 8, 8, 128)    0           ['leaky_re_lu[0][0]']            \n",
            "                                                                                                  \n",
            " conv2d_1 (Conv2D)              (None, 8, 8, 128)    147584      ['up_sampling2d[0][0]']          \n",
            "                                                                                                  \n",
            " leaky_re_lu_1 (LeakyReLU)      (None, 8, 8, 128)    0           ['conv2d_1[0][0]']               \n",
            "                                                                                                  \n",
            " up_sampling2d_1 (UpSampling2D)  (None, 16, 16, 128)  0          ['leaky_re_lu_1[0][0]']          \n",
            "                                                                                                  \n",
            " conv2d_2 (Conv2D)              (None, 16, 16, 64)   73792       ['up_sampling2d_1[0][0]']        \n",
            "                                                                                                  \n",
            " leaky_re_lu_2 (LeakyReLU)      (None, 16, 16, 64)   0           ['conv2d_2[0][0]']               \n",
            "                                                                                                  \n",
            " up_sampling2d_2 (UpSampling2D)  (None, 32, 32, 64)  0           ['leaky_re_lu_2[0][0]']          \n",
            "                                                                                                  \n",
            " conv2d_3 (Conv2D)              (None, 32, 32, 32)   18464       ['up_sampling2d_2[0][0]']        \n",
            "                                                                                                  \n",
            " leaky_re_lu_3 (LeakyReLU)      (None, 32, 32, 32)   0           ['conv2d_3[0][0]']               \n",
            "                                                                                                  \n",
            " conv2d_4 (Conv2D)              (None, 32, 32, 1)    33          ['leaky_re_lu_3[0][0]']          \n",
            "                                                                                                  \n",
            "==================================================================================================\n",
            "Total params: 250,369\n",
            "Trainable params: 250,369\n",
            "Non-trainable params: 0\n",
            "__________________________________________________________________________________________________\n",
            "Model: \"model_1\"\n",
            "__________________________________________________________________________________________________\n",
            " Layer (type)                   Output Shape         Param #     Connected to                     \n",
            "==================================================================================================\n",
            " input_3 (InputLayer)           [(None, 32, 32, 1)]  0           []                               \n",
            "                                                                                                  \n",
            " input_4 (InputLayer)           [(None, 4, 4, 1)]    0           []                               \n",
            "                                                                                                  \n",
            " conv2d_5 (Conv2D)              (None, 32, 32, 32)   320         ['input_3[0][0]']                \n",
            "                                                                                                  \n",
            " conv2d_6 (Conv2D)              (None, 4, 4, 32)     320         ['input_4[0][0]']                \n",
            "                                                                                                  \n",
            " leaky_re_lu_4 (LeakyReLU)      (None, 32, 32, 32)   0           ['conv2d_5[0][0]']               \n",
            "                                                                                                  \n",
            " leaky_re_lu_5 (LeakyReLU)      (None, 4, 4, 32)     0           ['conv2d_6[0][0]']               \n",
            "                                                                                                  \n",
            " conv2d_7 (Conv2D)              (None, 16, 16, 32)   9248        ['leaky_re_lu_4[0][0]']          \n",
            "                                                                                                  \n",
            " conv2d_8 (Conv2D)              (None, 4, 4, 32)     9248        ['leaky_re_lu_5[0][0]']          \n",
            "                                                                                                  \n",
            " leaky_re_lu_6 (LeakyReLU)      (None, 16, 16, 32)   0           ['conv2d_7[0][0]']               \n",
            "                                                                                                  \n",
            " leaky_re_lu_7 (LeakyReLU)      (None, 4, 4, 32)     0           ['conv2d_8[0][0]']               \n",
            "                                                                                                  \n",
            " conv2d_9 (Conv2D)              (None, 8, 8, 64)     18496       ['leaky_re_lu_6[0][0]']          \n",
            "                                                                                                  \n",
            " conv2d_10 (Conv2D)             (None, 4, 4, 64)     18496       ['leaky_re_lu_7[0][0]']          \n",
            "                                                                                                  \n",
            " leaky_re_lu_8 (LeakyReLU)      (None, 8, 8, 64)     0           ['conv2d_9[0][0]']               \n",
            "                                                                                                  \n",
            " leaky_re_lu_9 (LeakyReLU)      (None, 4, 4, 64)     0           ['conv2d_10[0][0]']              \n",
            "                                                                                                  \n",
            " conv2d_11 (Conv2D)             (None, 4, 4, 128)    73856       ['leaky_re_lu_8[0][0]']          \n",
            "                                                                                                  \n",
            " conv2d_12 (Conv2D)             (None, 4, 4, 128)    73856       ['leaky_re_lu_9[0][0]']          \n",
            "                                                                                                  \n",
            " leaky_re_lu_10 (LeakyReLU)     (None, 4, 4, 128)    0           ['conv2d_11[0][0]']              \n",
            "                                                                                                  \n",
            " leaky_re_lu_11 (LeakyReLU)     (None, 4, 4, 128)    0           ['conv2d_12[0][0]']              \n",
            "                                                                                                  \n",
            " concatenate_1 (Concatenate)    (None, 4, 4, 256)    0           ['leaky_re_lu_10[0][0]',         \n",
            "                                                                  'leaky_re_lu_11[0][0]']         \n",
            "                                                                                                  \n",
            " conv2d_13 (Conv2D)             (None, 4, 4, 128)    295040      ['concatenate_1[0][0]']          \n",
            "                                                                                                  \n",
            " leaky_re_lu_12 (LeakyReLU)     (None, 4, 4, 128)    0           ['conv2d_13[0][0]']              \n",
            "                                                                                                  \n",
            " conv2d_14 (Conv2D)             (None, 4, 4, 128)    147584      ['leaky_re_lu_12[0][0]']         \n",
            "                                                                                                  \n",
            " leaky_re_lu_13 (LeakyReLU)     (None, 4, 4, 128)    0           ['conv2d_14[0][0]']              \n",
            "                                                                                                  \n",
            " global_average_pooling2d (Glob  (None, 128)         0           ['leaky_re_lu_13[0][0]']         \n",
            " alAveragePooling2D)                                                                              \n",
            "                                                                                                  \n",
            " dense (Dense)                  (None, 1)            129         ['global_average_pooling2d[0][0]'\n",
            "                                                                 ]                                \n",
            "                                                                                                  \n",
            "==================================================================================================\n",
            "Total params: 646,593\n",
            "Trainable params: 646,593\n",
            "Non-trainable params: 0\n",
            "__________________________________________________________________________________________________\n"
          ]
        }
      ],
      "source": [
        "# Print summaries of the model\n",
        "generator.summary()\n",
        "discriminator.summary()"
      ]
    },
    {
      "cell_type": "markdown",
      "metadata": {
        "id": "pb_HPb3iU5G1"
      },
      "source": [
        "**GAN training loop**\n",
        "\n",
        "We create a custom Keras model for the GAN logic. We override `train_step` to implement the nonstandard GAN training procedure."
      ]
    },
    {
      "cell_type": "code",
      "execution_count": 8,
      "metadata": {
        "id": "5_38rHkfU9qY"
      },
      "outputs": [],
      "source": [
        "# Adapted from https://keras.io/examples/generative/conditional_gan/\n",
        "\n",
        "class DownscalingGAN(Model):\n",
        "    def __init__(self, discriminator, generator, noise_shape=(4,4,8)):\n",
        "        super().__init__()\n",
        "        self.discriminator = discriminator\n",
        "        self.generator = generator\n",
        "        self.noise_shape = noise_shape\n",
        "        self.gen_loss_tracker = keras.metrics.Mean(name=\"generator_loss\")\n",
        "        self.disc_loss_tracker = keras.metrics.Mean(name=\"discriminator_loss\")\n",
        "        self.step_number = tf.Variable(0)\n",
        "\n",
        "    @property\n",
        "    def metrics(self):\n",
        "        return [self.gen_loss_tracker, self.disc_loss_tracker]\n",
        "\n",
        "    def compile(self, d_optimizer, g_optimizer, loss_fn):\n",
        "        super().compile()\n",
        "        self.d_optimizer = d_optimizer\n",
        "        self.g_optimizer = g_optimizer\n",
        "        self.loss_fn = loss_fn\n",
        "\n",
        "    def train_step(self, data):\n",
        "        # Unpack the data.\n",
        "        (samples_lr, samples_hr) = data\n",
        "\n",
        "        # Sample noise for the generator.\n",
        "        batch_size = tf.shape(samples_hr)[0]\n",
        "        noise = tf.random.normal(\n",
        "            shape=(batch_size,)+self.noise_shape\n",
        "        )\n",
        "\n",
        "        def train_discriminator():\n",
        "            # Generate fake samples.\n",
        "            samples_gen = self.generator([samples_lr, noise])\n",
        "\n",
        "            # Combine them with real images.\n",
        "            combined_samples_hr = tf.concat([samples_gen, samples_hr], axis=0)\n",
        "            combined_samples_lr = tf.concat([samples_lr, samples_lr], axis=0)\n",
        "\n",
        "            # Assemble labels discriminating real from fake images.\n",
        "            labels = tf.concat(\n",
        "                [tf.ones((batch_size, 1)), tf.zeros((batch_size, 1))], axis=0\n",
        "            )\n",
        "\n",
        "            # Train the discriminator.\n",
        "            with tf.GradientTape() as tape:\n",
        "                predictions = self.discriminator(\n",
        "                    [combined_samples_lr, combined_samples_hr]\n",
        "                )\n",
        "                d_loss = self.loss_fn(labels, predictions)\n",
        "            grads = tape.gradient(d_loss, self.discriminator.trainable_weights)\n",
        "            self.d_optimizer.apply_gradients(\n",
        "                zip(grads, self.discriminator.trainable_weights)\n",
        "            )\n",
        "\n",
        "            # Monitor loss.\n",
        "            self.disc_loss_tracker.update_state(d_loss)\n",
        "\n",
        "        def train_generator():\n",
        "            # Create labels that say \"all real images\".\n",
        "            misleading_labels = tf.zeros((batch_size, 1))\n",
        "\n",
        "            # Train the generator (note that we should *not* update the weights\n",
        "            # of the discriminator)!\n",
        "            with tf.GradientTape() as tape:\n",
        "                samples_gen = self.generator([samples_lr, noise])\n",
        "                predictions = self.discriminator([samples_lr, samples_gen])\n",
        "                g_loss = self.loss_fn(misleading_labels, predictions)\n",
        "            grads = tape.gradient(g_loss, self.generator.trainable_weights)\n",
        "            self.g_optimizer.apply_gradients(\n",
        "                zip(grads, self.generator.trainable_weights)\n",
        "            )\n",
        "\n",
        "            # Monitor loss.\n",
        "            self.gen_loss_tracker.update_state(g_loss)\n",
        "        \n",
        "        # If we trained the generator now, train the discriminator next\n",
        "        # or vice versa.\n",
        "        \n",
        "        tf.cond(\n",
        "            self.step_number % 2 == 0,\n",
        "            train_discriminator,\n",
        "            train_generator\n",
        "        )        \n",
        "        self.step_number.assign(self.step_number+1)\n",
        "\n",
        "        return {\n",
        "            \"g_loss\": self.gen_loss_tracker.result(),\n",
        "            \"d_loss\": self.disc_loss_tracker.result(),\n",
        "        }\n",
        "\n",
        "gan = DownscalingGAN(discriminator, generator)\n",
        "gan.compile(\n",
        "    d_optimizer=keras.optimizers.Adam(learning_rate=3e-4),\n",
        "    g_optimizer=keras.optimizers.Adam(learning_rate=3e-4),\n",
        "    loss_fn=keras.losses.BinaryCrossentropy(from_logits=True),\n",
        ")"
      ]
    },
    {
      "cell_type": "markdown",
      "metadata": {
        "id": "3JroyiEkzTV-"
      },
      "source": [
        "# Training the GAN"
      ]
    },
    {
      "cell_type": "markdown",
      "metadata": {
        "id": "qwYkKbfSKu9T"
      },
      "source": [
        "Now, training the GAN is really simple! We start it just like we would any Keras model training - with a call to `fit`.\n",
        "\n",
        "We train for 30 epochs which should be enough to get reasonable looking results in about 15 minutes. To train more, you can increase `epochs` - or just run the cell below again.\n",
        "\n",
        "While your waiting for the GAN to train, you can take some time to **watch the video** belonging to this lesson."
      ]
    },
    {
      "cell_type": "code",
      "execution_count": 11,
      "metadata": {
        "id": "nQwsYwFTKxGi",
        "outputId": "b40a6a70-79ea-47da-c4af-4bf898859023",
        "colab": {
          "base_uri": "https://localhost:8080/"
        }
      },
      "outputs": [
        {
          "output_type": "stream",
          "name": "stdout",
          "text": [
            "Epoch 1/80\n",
            "900/900 [==============================] - 13s 15ms/step - g_loss: 5.0955 - d_loss: 0.2321\n",
            "Epoch 2/80\n",
            "900/900 [==============================] - 11s 12ms/step - g_loss: 6.2240 - d_loss: 0.1402\n",
            "Epoch 3/80\n",
            "900/900 [==============================] - 11s 12ms/step - g_loss: 6.3871 - d_loss: 0.1710\n",
            "Epoch 4/80\n",
            "900/900 [==============================] - 11s 12ms/step - g_loss: 5.6505 - d_loss: 0.2053\n",
            "Epoch 5/80\n",
            "900/900 [==============================] - 11s 12ms/step - g_loss: 6.0151 - d_loss: 0.2119\n",
            "Epoch 6/80\n",
            "900/900 [==============================] - 11s 12ms/step - g_loss: 5.7934 - d_loss: 0.2043\n",
            "Epoch 7/80\n",
            "900/900 [==============================] - 11s 12ms/step - g_loss: 6.1572 - d_loss: 0.1970\n",
            "Epoch 8/80\n",
            "900/900 [==============================] - 11s 12ms/step - g_loss: 6.2397 - d_loss: 0.1897\n",
            "Epoch 9/80\n",
            "900/900 [==============================] - 11s 12ms/step - g_loss: 6.2304 - d_loss: 0.2110\n",
            "Epoch 10/80\n",
            "900/900 [==============================] - 11s 12ms/step - g_loss: 6.9791 - d_loss: 0.1400\n",
            "Epoch 11/80\n",
            "900/900 [==============================] - 11s 12ms/step - g_loss: 7.4340 - d_loss: 0.1408\n",
            "Epoch 12/80\n",
            "900/900 [==============================] - 11s 13ms/step - g_loss: 6.8716 - d_loss: 0.1902\n",
            "Epoch 13/80\n",
            "900/900 [==============================] - 11s 12ms/step - g_loss: 7.1902 - d_loss: 0.1401\n",
            "Epoch 14/80\n",
            "900/900 [==============================] - 11s 12ms/step - g_loss: 6.6310 - d_loss: 0.1897\n",
            "Epoch 15/80\n",
            "900/900 [==============================] - 11s 12ms/step - g_loss: 6.8999 - d_loss: 0.2101\n",
            "Epoch 16/80\n",
            "900/900 [==============================] - 11s 12ms/step - g_loss: 8.2143 - d_loss: 0.0976\n",
            "Epoch 17/80\n",
            "900/900 [==============================] - 11s 12ms/step - g_loss: 7.7960 - d_loss: 0.1577\n",
            "Epoch 18/80\n",
            "900/900 [==============================] - 11s 12ms/step - g_loss: 6.9629 - d_loss: 0.1728\n",
            "Epoch 19/80\n",
            "900/900 [==============================] - 11s 12ms/step - g_loss: 7.6901 - d_loss: 0.1635\n",
            "Epoch 20/80\n",
            "900/900 [==============================] - 11s 12ms/step - g_loss: 7.4732 - d_loss: 0.1706\n",
            "Epoch 21/80\n",
            "900/900 [==============================] - 11s 12ms/step - g_loss: 7.9234 - d_loss: 0.1611\n",
            "Epoch 22/80\n",
            "900/900 [==============================] - 11s 12ms/step - g_loss: 8.0380 - d_loss: 0.1328\n",
            "Epoch 23/80\n",
            "900/900 [==============================] - 11s 12ms/step - g_loss: 5.5739 - d_loss: 0.2569\n",
            "Epoch 24/80\n",
            "900/900 [==============================] - 11s 12ms/step - g_loss: 7.9651 - d_loss: 0.1315\n",
            "Epoch 25/80\n",
            "900/900 [==============================] - 12s 13ms/step - g_loss: 6.6035 - d_loss: 0.2189\n",
            "Epoch 26/80\n",
            "900/900 [==============================] - 11s 12ms/step - g_loss: 8.0883 - d_loss: 0.1312\n",
            "Epoch 27/80\n",
            "900/900 [==============================] - 11s 12ms/step - g_loss: 7.3939 - d_loss: 0.1941\n",
            "Epoch 28/80\n",
            "900/900 [==============================] - 11s 12ms/step - g_loss: 8.0051 - d_loss: 0.1868\n",
            "Epoch 29/80\n",
            "900/900 [==============================] - 11s 12ms/step - g_loss: 9.1741 - d_loss: 0.1521\n",
            "Epoch 30/80\n",
            "900/900 [==============================] - 11s 12ms/step - g_loss: 9.8831 - d_loss: 0.1329\n",
            "Epoch 31/80\n",
            "900/900 [==============================] - 11s 12ms/step - g_loss: 9.2966 - d_loss: 0.1487\n",
            "Epoch 32/80\n",
            "900/900 [==============================] - 11s 12ms/step - g_loss: 7.6824 - d_loss: 0.1824\n",
            "Epoch 33/80\n",
            "900/900 [==============================] - 11s 12ms/step - g_loss: 9.5531 - d_loss: 0.1170\n",
            "Epoch 34/80\n",
            "900/900 [==============================] - 11s 12ms/step - g_loss: 9.3765 - d_loss: 0.1212\n",
            "Epoch 35/80\n",
            "900/900 [==============================] - 11s 12ms/step - g_loss: 9.3420 - d_loss: 0.1167\n",
            "Epoch 36/80\n",
            "900/900 [==============================] - 11s 12ms/step - g_loss: 9.2908 - d_loss: 0.1154\n",
            "Epoch 37/80\n",
            "900/900 [==============================] - 12s 13ms/step - g_loss: 11.2302 - d_loss: 0.0861\n",
            "Epoch 38/80\n",
            "900/900 [==============================] - 11s 12ms/step - g_loss: 9.3310 - d_loss: 0.1581\n",
            "Epoch 39/80\n",
            "900/900 [==============================] - 11s 12ms/step - g_loss: 9.8076 - d_loss: 0.1241\n",
            "Epoch 40/80\n",
            "900/900 [==============================] - 11s 12ms/step - g_loss: 8.8742 - d_loss: 0.1861\n",
            "Epoch 41/80\n",
            "900/900 [==============================] - 11s 12ms/step - g_loss: 6.0892 - d_loss: 0.2866\n",
            "Epoch 42/80\n",
            "900/900 [==============================] - 11s 12ms/step - g_loss: 8.4028 - d_loss: 0.1528\n",
            "Epoch 43/80\n",
            "900/900 [==============================] - 11s 12ms/step - g_loss: 12.6125 - d_loss: 0.0693\n",
            "Epoch 44/80\n",
            "900/900 [==============================] - 11s 12ms/step - g_loss: 8.8169 - d_loss: 0.1472\n",
            "Epoch 45/80\n",
            "900/900 [==============================] - 11s 12ms/step - g_loss: 9.8533 - d_loss: 0.1039\n",
            "Epoch 46/80\n",
            "900/900 [==============================] - 11s 12ms/step - g_loss: 8.2790 - d_loss: 0.1611\n",
            "Epoch 47/80\n",
            "900/900 [==============================] - 11s 12ms/step - g_loss: 10.3899 - d_loss: 0.1051\n",
            "Epoch 48/80\n",
            "900/900 [==============================] - 11s 12ms/step - g_loss: 17.3682 - d_loss: 0.0245\n",
            "Epoch 49/80\n",
            "900/900 [==============================] - 11s 12ms/step - g_loss: 10.6297 - d_loss: 0.1447\n",
            "Epoch 50/80\n",
            "900/900 [==============================] - 11s 12ms/step - g_loss: 13.4323 - d_loss: 0.0598\n",
            "Epoch 51/80\n",
            "900/900 [==============================] - 12s 13ms/step - g_loss: 10.4362 - d_loss: 0.1587\n",
            "Epoch 52/80\n",
            "900/900 [==============================] - 11s 12ms/step - g_loss: 9.3282 - d_loss: 0.1220\n",
            "Epoch 53/80\n",
            "900/900 [==============================] - 11s 12ms/step - g_loss: 11.4535 - d_loss: 0.0867\n",
            "Epoch 54/80\n",
            "900/900 [==============================] - 11s 12ms/step - g_loss: 10.0773 - d_loss: 0.1088\n",
            "Epoch 55/80\n",
            "900/900 [==============================] - 11s 12ms/step - g_loss: 13.1869 - d_loss: 0.0419\n",
            "Epoch 56/80\n",
            "900/900 [==============================] - 11s 12ms/step - g_loss: 10.7892 - d_loss: 0.0961\n",
            "Epoch 57/80\n",
            "900/900 [==============================] - 11s 12ms/step - g_loss: 12.8170 - d_loss: 0.0885\n",
            "Epoch 58/80\n",
            "900/900 [==============================] - 11s 12ms/step - g_loss: 12.7568 - d_loss: 0.0640\n",
            "Epoch 59/80\n",
            "900/900 [==============================] - 11s 12ms/step - g_loss: 8.1807 - d_loss: 0.1577\n",
            "Epoch 60/80\n",
            "900/900 [==============================] - 11s 12ms/step - g_loss: 11.5512 - d_loss: 0.0793\n",
            "Epoch 61/80\n",
            "900/900 [==============================] - 11s 12ms/step - g_loss: 9.9635 - d_loss: 0.1273\n",
            "Epoch 62/80\n",
            "900/900 [==============================] - 11s 12ms/step - g_loss: 18.3564 - d_loss: 0.0214\n",
            "Epoch 63/80\n",
            "900/900 [==============================] - 12s 13ms/step - g_loss: 15.9016 - d_loss: 0.0445\n",
            "Epoch 64/80\n",
            "900/900 [==============================] - 11s 12ms/step - g_loss: 10.6846 - d_loss: 0.0940\n",
            "Epoch 65/80\n",
            "900/900 [==============================] - 11s 12ms/step - g_loss: 10.4859 - d_loss: 0.1077\n",
            "Epoch 66/80\n",
            "900/900 [==============================] - 11s 12ms/step - g_loss: 9.2522 - d_loss: 0.1379\n",
            "Epoch 67/80\n",
            "900/900 [==============================] - 11s 12ms/step - g_loss: 10.7029 - d_loss: 0.0848\n",
            "Epoch 68/80\n",
            "900/900 [==============================] - 11s 12ms/step - g_loss: 11.4830 - d_loss: 0.1095\n",
            "Epoch 69/80\n",
            "900/900 [==============================] - 11s 12ms/step - g_loss: 11.4283 - d_loss: 0.0723\n",
            "Epoch 70/80\n",
            "900/900 [==============================] - 11s 12ms/step - g_loss: 16.9208 - d_loss: 0.0089\n",
            "Epoch 71/80\n",
            "900/900 [==============================] - 11s 12ms/step - g_loss: 13.1691 - d_loss: 0.0988\n",
            "Epoch 72/80\n",
            "900/900 [==============================] - 11s 12ms/step - g_loss: 12.7450 - d_loss: 0.0488\n",
            "Epoch 73/80\n",
            "900/900 [==============================] - 11s 12ms/step - g_loss: 11.6859 - d_loss: 0.0935\n",
            "Epoch 74/80\n",
            "900/900 [==============================] - 11s 12ms/step - g_loss: 16.4279 - d_loss: 0.0210\n",
            "Epoch 75/80\n",
            "900/900 [==============================] - 11s 12ms/step - g_loss: 18.3923 - d_loss: 0.0241\n",
            "Epoch 76/80\n",
            "900/900 [==============================] - 11s 12ms/step - g_loss: 12.9242 - d_loss: 0.0612\n",
            "Epoch 77/80\n",
            "900/900 [==============================] - 12s 13ms/step - g_loss: 18.7894 - d_loss: 0.0280\n",
            "Epoch 78/80\n",
            "900/900 [==============================] - 11s 12ms/step - g_loss: 12.7868 - d_loss: 0.0889\n",
            "Epoch 79/80\n",
            "900/900 [==============================] - 11s 12ms/step - g_loss: 10.2230 - d_loss: 0.1198\n",
            "Epoch 80/80\n",
            "900/900 [==============================] - 11s 12ms/step - g_loss: 12.7681 - d_loss: 0.0512\n"
          ]
        },
        {
          "output_type": "execute_result",
          "data": {
            "text/plain": [
              "<keras.callbacks.History at 0x7fa5f12140d0>"
            ]
          },
          "metadata": {},
          "execution_count": 11
        }
      ],
      "source": [
        "gan.fit(dataset, epochs=80)"
      ]
    },
    {
      "cell_type": "markdown",
      "metadata": {
        "id": "3-nt4RAZ1ekc"
      },
      "source": [
        "# Examining the results"
      ]
    },
    {
      "cell_type": "markdown",
      "metadata": {
        "id": "04weCZFov5u6"
      },
      "source": [
        "**Plotting generated samples**\n",
        "\n",
        "With our GAN trained, we can now create some downscaled precipitation fields! Run the code below to do this."
      ]
    },
    {
      "cell_type": "code",
      "execution_count": 12,
      "metadata": {
        "id": "9IO3btn6O7Cw",
        "outputId": "8089ba53-6060-4941-878c-775b36ee1303",
        "colab": {
          "base_uri": "https://localhost:8080/",
          "height": 499
        }
      },
      "outputs": [
        {
          "output_type": "display_data",
          "data": {
            "text/plain": [
              "<Figure size 1200x600 with 32 Axes>"
            ],
            "image/png": "[encoded data removed]"
          },
          "metadata": {}
        }
      ],
      "source": [
        "rng = np.random.RandomState(seed=15)\n",
        "num_samples = 8\n",
        "\n",
        "# Selection of interesting samples from the test set\n",
        "indices = [2,5,14,16,17,19,28,37]\n",
        "\n",
        "# Uncomment to use a random selection (change seed for a different selection):\n",
        "# indices = rng.choice(samples.shape[0], num_samples, replace=False)\n",
        "\n",
        "noise = rng.randn(num_samples, 4, 4, 8)\n",
        "samples_gen_1 = generator.predict_on_batch(\n",
        "    [samples_lr_test[indices,...], noise]\n",
        ")\n",
        "noise = rng.randn(num_samples, 4, 4, 8)\n",
        "samples_gen_2 = generator.predict_on_batch(\n",
        "    [samples_lr_test[indices,...], noise]\n",
        ")\n",
        "plot_samples(\n",
        "    [\n",
        "        samples_lr_test[indices,...], samples_test[indices,...], \n",
        "        samples_gen_1, samples_gen_2    \n",
        "    ],\n",
        "    labels=[\"LR samples\", \"HR samples\", \"Gen. samples 1\", \"Gen. samples 2\"]\n",
        ")"
      ]
    },
    {
      "cell_type": "markdown",
      "metadata": {
        "id": "kihHqI9WwXKp"
      },
      "source": [
        "The first row shows the low-resolution precipitation samples, the next shows the real high-resolution precipitation, and the bottom two rows show downscaled fields from the GAN. We can see that the GAN creates reasonable guesses of what the high-resolution precipitation fields might look like. If you look at the generated images more closely, you'll also see that there are small differences in the two GAN-generated fields. This means that our GAN is generating solutions stochastically - you'll get a different guess every time."
      ]
    },
    {
      "cell_type": "markdown",
      "metadata": {
        "id": "i0905cCH1kk1"
      },
      "source": [
        "# Optional homework"
      ]
    },
    {
      "cell_type": "markdown",
      "metadata": {
        "id": "E1vpKTBfxoqJ"
      },
      "source": [
        "Here are some suggestions if you'd like to spend some more time to study the GAN in more detail:\n",
        "* Train the GAN longer (increase `epochs` in `gan.fit` and see if the generated results get better).\n",
        "* Try to adjust the generator and discriminator architectures and see what effect it has on the images.\n"
      ]
    }
  ],
  "metadata": {
    "accelerator": "GPU",
    "colab": {
      "provenance": [],
      "include_colab_link": true
    },
    "gpuClass": "standard",
    "kernelspec": {
      "display_name": "Python 3 (ipykernel)",
      "language": "python",
      "name": "python3"
    },
    "language_info": {
      "codemirror_mode": {
        "name": "ipython",
        "version": 3
      },
      "file_extension": ".py",
      "mimetype": "text/x-python",
      "name": "python",
      "nbconvert_exporter": "python",
      "pygments_lexer": "ipython3",
      "version": "3.9.7"
    }
  },
  "nbformat": 4,
  "nbformat_minor": 0
}